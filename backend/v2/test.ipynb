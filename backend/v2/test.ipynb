{
 "cells": [
  {
   "cell_type": "code",
   "execution_count": 20,
   "metadata": {},
   "outputs": [],
   "source": [
    "from fastapi import FastAPI, Request, HTTPException, BackgroundTasks\n",
    "from fastapi.responses import JSONResponse\n",
    "import gspread\n",
    "from google.oauth2.service_account import Credentials\n",
    "import pandas as pd\n",
    "import numpy as np\n",
    "import io\n",
    "import base64\n",
    "import requests\n",
    "import matplotlib.pyplot as plt\n",
    "import seaborn as sns\n",
    "import time\n",
    "from fastapi.middleware.cors import CORSMiddleware\n"
   ]
  },
  {
   "cell_type": "code",
   "execution_count": 22,
   "metadata": {},
   "outputs": [],
   "source": [
    "# FastAPI 應用\n",
    "app = FastAPI()\n",
    "app.add_middleware(\n",
    "    CORSMiddleware,\n",
    "    allow_origins=[\"*\"],  # 你可以根據需求設置具體允許的域名\n",
    "    allow_credentials=True,\n",
    "    allow_methods=[\"*\"],\n",
    "    allow_headers=[\"*\"],\n",
    ")\n",
    "# 設定 Google Sheets API 的範圍\n",
    "SCOPES = [\"https://www.googleapis.com/auth/spreadsheets\"]\n",
    "\n",
    "# 加載服務帳戶憑證\n",
    "creds = Credentials.from_service_account_file(\"credentials.json\", scopes=SCOPES)\n",
    "client = gspread.authorize(creds)\n",
    "\n",
    "# 打開你的 Google Sheets\n",
    "spreadsheet = client.open_by_url(\"https://docs.google.com/spreadsheets/d/1n3Xt5iemJ3WWjlksEaU6JfNDv_9FX4CStTzjayMRwEU/edit#gid=0\")\n",
    "\n",
    "# 定義資料處理函數\n",
    "def calculate_avg(df):\n",
    "    avg_dict = {}\n",
    "    unique_positions = sorted(df['position'].unique())\n",
    "    unique_names = df['name'].unique()\n",
    "\n",
    "    for position in unique_positions:\n",
    "        avg_dict[position] = {}\n",
    "        for name in unique_names:\n",
    "            single_count = (df[(df['name'] == name) & (df['position'] == position)]['result'] == '一安 Single').sum()\n",
    "            double_count = (df[(df['name'] == name) & (df['position'] == position)]['result'] == '二安 Double').sum()\n",
    "            triple_count = (df[(df['name'] == name) & (df['position'] == position)]['result'] == '三安 Triple').sum()\n",
    "            hr_count = (df[(df['name'] == name) & (df['position'] == position)]['result'] == '全壘打 Home Run').sum()\n",
    "            total_hits = single_count + double_count + triple_count + hr_count\n",
    "            total_at_bats = (df[(df['name'] == name) & (df['position'] == position)]['result']\n",
    "                             .isin(['一安 Single', '二安 Double', '三安 Triple', '全壘打 Home Run', '外飛 Field Out', '失誤 Field Error', '三振 Strikeout']) \n",
    "                             & ~df[(df['name'] == name) & (df['position'] == position)]['result'].isna()).sum()\n",
    "\n",
    "            if total_at_bats > 0:\n",
    "                avg = total_hits / total_at_bats\n",
    "                avg_dict[position][name] = avg\n",
    "            else:\n",
    "                avg_dict[position][name] = None\n",
    "\n",
    "    avg_df = pd.DataFrame(avg_dict)\n",
    "    avg_df.index.name = 'name'\n",
    "    return avg_df"
   ]
  },
  {
   "cell_type": "code",
   "execution_count": 24,
   "metadata": {},
   "outputs": [],
   "source": [
    "@app.get(\"/\")\n",
    "async def get_data(n: str, width: int, background_tasks: BackgroundTasks):\n",
    "    try:\n",
    "        worksheet = spreadsheet.worksheet(n)\n",
    "        values = worksheet.get_all_values()\n",
    "        truncated_values = [row[:width] for row in values]\n",
    "\n",
    "        # # 在讀取資料時觸發更新\n",
    "        # background_tasks.add_task(refresh_data)\n",
    "\n",
    "        return JSONResponse(content=truncated_values)\n",
    "    except Exception as e:\n",
    "        raise HTTPException(status_code=500, detail=str(e))"
   ]
  },
  {
   "cell_type": "code",
   "execution_count": null,
   "metadata": {},
   "outputs": [],
   "source": [
    "response = requests.get(\"http://localhost:8000/?n=image&width=2\")\n",
    "print(response.status_code)\n",
    "print(response.json())"
   ]
  }
 ],
 "metadata": {
  "kernelspec": {
   "display_name": "Python 3",
   "language": "python",
   "name": "python3"
  },
  "language_info": {
   "codemirror_mode": {
    "name": "ipython",
    "version": 3
   },
   "file_extension": ".py",
   "mimetype": "text/x-python",
   "name": "python",
   "nbconvert_exporter": "python",
   "pygments_lexer": "ipython3",
   "version": "3.12.5"
  }
 },
 "nbformat": 4,
 "nbformat_minor": 2
}
